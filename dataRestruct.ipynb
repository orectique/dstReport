{
 "cells": [
  {
   "cell_type": "code",
   "execution_count": 23,
   "metadata": {},
   "outputs": [],
   "source": [
    "import pandas as pd"
   ]
  },
  {
   "cell_type": "code",
   "execution_count": 22,
   "metadata": {},
   "outputs": [],
   "source": [
    "data1 = pd.read_csv('data/Anthropometric.csv')\n",
    "data2 = pd.read_csv('data/Dietary.csv')\n",
    "data3 = pd.read_csv('data/Clinical.csv')\n",
    "data4 = pd.read_csv('data/Biochemical.csv')"
   ]
  },
  {
   "cell_type": "code",
   "execution_count": 13,
   "metadata": {},
   "outputs": [],
   "source": [
    "data1['Month Log'] = data1['Month'].apply(lambda x: 'Month 1' if x == '1-2022' else ('Month 2' if x == '2-2022' else None))\n",
    "\n",
    "data3['Month Log'] = data3['Month'].apply(lambda x: 'Month 1' if x == '1-2022' else ('Month 2' if x == '2-2022' else None))\n",
    "\n",
    "data4['Month Log'] = data4['Month'].apply(lambda x: 'Month 1' if x == '1-2022' else ('Month 2' if x == '2-2022' else None))"
   ]
  },
  {
   "cell_type": "code",
   "execution_count": 14,
   "metadata": {},
   "outputs": [],
   "source": [
    "data1.to_csv('data/Anthropometric_Month.csv', index=False)\n",
    "data3.to_csv('data/Clinical_Month.csv', index=False)\n",
    "data4.to_csv('data/Biochemical_Month.csv', index=False)"
   ]
  },
  {
   "cell_type": "code",
   "execution_count": 15,
   "metadata": {},
   "outputs": [],
   "source": [
    "data2['Date'] = pd.to_datetime(data2['Date'], infer_datetime_format=True)"
   ]
  },
  {
   "cell_type": "code",
   "execution_count": 18,
   "metadata": {},
   "outputs": [],
   "source": [
    "data2['Month'] = data2['Date'].apply(lambda x: 'Month ' + str(x.month - 6))\n",
    "data2['Day'] = data2['Date'].apply(lambda x: x.day)"
   ]
  },
  {
   "cell_type": "code",
   "execution_count": 19,
   "metadata": {},
   "outputs": [
    {
     "data": {
      "text/html": [
       "<div>\n",
       "<style scoped>\n",
       "    .dataframe tbody tr th:only-of-type {\n",
       "        vertical-align: middle;\n",
       "    }\n",
       "\n",
       "    .dataframe tbody tr th {\n",
       "        vertical-align: top;\n",
       "    }\n",
       "\n",
       "    .dataframe thead th {\n",
       "        text-align: right;\n",
       "    }\n",
       "</style>\n",
       "<table border=\"1\" class=\"dataframe\">\n",
       "  <thead>\n",
       "    <tr style=\"text-align: right;\">\n",
       "      <th></th>\n",
       "      <th>Aadhaar</th>\n",
       "      <th>Date</th>\n",
       "      <th>Grains</th>\n",
       "      <th>Pulses</th>\n",
       "      <th>otherFruits</th>\n",
       "      <th>leafy_Vegetables</th>\n",
       "      <th>other_veg</th>\n",
       "      <th>Milk</th>\n",
       "      <th>Animal</th>\n",
       "      <th>Vitamin_A</th>\n",
       "      <th>Nuts</th>\n",
       "      <th>Eggs</th>\n",
       "      <th>junk</th>\n",
       "      <th>Month</th>\n",
       "      <th>Day</th>\n",
       "    </tr>\n",
       "  </thead>\n",
       "  <tbody>\n",
       "    <tr>\n",
       "      <th>0</th>\n",
       "      <td>1234567100</td>\n",
       "      <td>2021-07-01</td>\n",
       "      <td>1</td>\n",
       "      <td>1</td>\n",
       "      <td>0</td>\n",
       "      <td>0</td>\n",
       "      <td>0</td>\n",
       "      <td>0</td>\n",
       "      <td>0</td>\n",
       "      <td>0</td>\n",
       "      <td>0</td>\n",
       "      <td>0</td>\n",
       "      <td>1</td>\n",
       "      <td>Month 1</td>\n",
       "      <td>1</td>\n",
       "    </tr>\n",
       "    <tr>\n",
       "      <th>1</th>\n",
       "      <td>1234567100</td>\n",
       "      <td>2021-07-02</td>\n",
       "      <td>1</td>\n",
       "      <td>1</td>\n",
       "      <td>0</td>\n",
       "      <td>0</td>\n",
       "      <td>0</td>\n",
       "      <td>0</td>\n",
       "      <td>0</td>\n",
       "      <td>0</td>\n",
       "      <td>0</td>\n",
       "      <td>0</td>\n",
       "      <td>1</td>\n",
       "      <td>Month 1</td>\n",
       "      <td>2</td>\n",
       "    </tr>\n",
       "    <tr>\n",
       "      <th>2</th>\n",
       "      <td>1234567100</td>\n",
       "      <td>2021-07-03</td>\n",
       "      <td>1</td>\n",
       "      <td>1</td>\n",
       "      <td>0</td>\n",
       "      <td>0</td>\n",
       "      <td>0</td>\n",
       "      <td>1</td>\n",
       "      <td>0</td>\n",
       "      <td>0</td>\n",
       "      <td>0</td>\n",
       "      <td>0</td>\n",
       "      <td>1</td>\n",
       "      <td>Month 1</td>\n",
       "      <td>3</td>\n",
       "    </tr>\n",
       "    <tr>\n",
       "      <th>3</th>\n",
       "      <td>1234567100</td>\n",
       "      <td>2021-07-04</td>\n",
       "      <td>1</td>\n",
       "      <td>1</td>\n",
       "      <td>0</td>\n",
       "      <td>0</td>\n",
       "      <td>0</td>\n",
       "      <td>0</td>\n",
       "      <td>0</td>\n",
       "      <td>0</td>\n",
       "      <td>0</td>\n",
       "      <td>0</td>\n",
       "      <td>1</td>\n",
       "      <td>Month 1</td>\n",
       "      <td>4</td>\n",
       "    </tr>\n",
       "    <tr>\n",
       "      <th>4</th>\n",
       "      <td>1234567100</td>\n",
       "      <td>2021-07-05</td>\n",
       "      <td>1</td>\n",
       "      <td>1</td>\n",
       "      <td>0</td>\n",
       "      <td>0</td>\n",
       "      <td>0</td>\n",
       "      <td>0</td>\n",
       "      <td>0</td>\n",
       "      <td>0</td>\n",
       "      <td>0</td>\n",
       "      <td>1</td>\n",
       "      <td>1</td>\n",
       "      <td>Month 1</td>\n",
       "      <td>5</td>\n",
       "    </tr>\n",
       "    <tr>\n",
       "      <th>...</th>\n",
       "      <td>...</td>\n",
       "      <td>...</td>\n",
       "      <td>...</td>\n",
       "      <td>...</td>\n",
       "      <td>...</td>\n",
       "      <td>...</td>\n",
       "      <td>...</td>\n",
       "      <td>...</td>\n",
       "      <td>...</td>\n",
       "      <td>...</td>\n",
       "      <td>...</td>\n",
       "      <td>...</td>\n",
       "      <td>...</td>\n",
       "      <td>...</td>\n",
       "      <td>...</td>\n",
       "    </tr>\n",
       "    <tr>\n",
       "      <th>11220</th>\n",
       "      <td>990095966133</td>\n",
       "      <td>2021-10-03</td>\n",
       "      <td>1</td>\n",
       "      <td>1</td>\n",
       "      <td>0</td>\n",
       "      <td>0</td>\n",
       "      <td>0</td>\n",
       "      <td>0</td>\n",
       "      <td>0</td>\n",
       "      <td>0</td>\n",
       "      <td>0</td>\n",
       "      <td>0</td>\n",
       "      <td>1</td>\n",
       "      <td>Month 4</td>\n",
       "      <td>3</td>\n",
       "    </tr>\n",
       "    <tr>\n",
       "      <th>11221</th>\n",
       "      <td>990095966133</td>\n",
       "      <td>2021-10-04</td>\n",
       "      <td>1</td>\n",
       "      <td>0</td>\n",
       "      <td>0</td>\n",
       "      <td>0</td>\n",
       "      <td>0</td>\n",
       "      <td>0</td>\n",
       "      <td>0</td>\n",
       "      <td>0</td>\n",
       "      <td>0</td>\n",
       "      <td>1</td>\n",
       "      <td>0</td>\n",
       "      <td>Month 4</td>\n",
       "      <td>4</td>\n",
       "    </tr>\n",
       "    <tr>\n",
       "      <th>11222</th>\n",
       "      <td>990095966133</td>\n",
       "      <td>2021-10-05</td>\n",
       "      <td>1</td>\n",
       "      <td>1</td>\n",
       "      <td>0</td>\n",
       "      <td>0</td>\n",
       "      <td>0</td>\n",
       "      <td>0</td>\n",
       "      <td>0</td>\n",
       "      <td>0</td>\n",
       "      <td>0</td>\n",
       "      <td>0</td>\n",
       "      <td>1</td>\n",
       "      <td>Month 4</td>\n",
       "      <td>5</td>\n",
       "    </tr>\n",
       "    <tr>\n",
       "      <th>11223</th>\n",
       "      <td>990095966133</td>\n",
       "      <td>2021-10-06</td>\n",
       "      <td>1</td>\n",
       "      <td>1</td>\n",
       "      <td>0</td>\n",
       "      <td>0</td>\n",
       "      <td>0</td>\n",
       "      <td>0</td>\n",
       "      <td>0</td>\n",
       "      <td>0</td>\n",
       "      <td>0</td>\n",
       "      <td>0</td>\n",
       "      <td>1</td>\n",
       "      <td>Month 4</td>\n",
       "      <td>6</td>\n",
       "    </tr>\n",
       "    <tr>\n",
       "      <th>11224</th>\n",
       "      <td>990095966133</td>\n",
       "      <td>2021-10-07</td>\n",
       "      <td>1</td>\n",
       "      <td>0</td>\n",
       "      <td>0</td>\n",
       "      <td>0</td>\n",
       "      <td>0</td>\n",
       "      <td>0</td>\n",
       "      <td>0</td>\n",
       "      <td>0</td>\n",
       "      <td>0</td>\n",
       "      <td>0</td>\n",
       "      <td>1</td>\n",
       "      <td>Month 4</td>\n",
       "      <td>7</td>\n",
       "    </tr>\n",
       "  </tbody>\n",
       "</table>\n",
       "<p>11225 rows × 15 columns</p>\n",
       "</div>"
      ],
      "text/plain": [
       "            Aadhaar       Date  Grains  Pulses  otherFruits  leafy_Vegetables  \\\n",
       "0        1234567100 2021-07-01       1       1            0                 0   \n",
       "1        1234567100 2021-07-02       1       1            0                 0   \n",
       "2        1234567100 2021-07-03       1       1            0                 0   \n",
       "3        1234567100 2021-07-04       1       1            0                 0   \n",
       "4        1234567100 2021-07-05       1       1            0                 0   \n",
       "...             ...        ...     ...     ...          ...               ...   \n",
       "11220  990095966133 2021-10-03       1       1            0                 0   \n",
       "11221  990095966133 2021-10-04       1       0            0                 0   \n",
       "11222  990095966133 2021-10-05       1       1            0                 0   \n",
       "11223  990095966133 2021-10-06       1       1            0                 0   \n",
       "11224  990095966133 2021-10-07       1       0            0                 0   \n",
       "\n",
       "       other_veg  Milk  Animal  Vitamin_A  Nuts  Eggs  junk    Month  Day  \n",
       "0              0     0       0          0     0     0     1  Month 1    1  \n",
       "1              0     0       0          0     0     0     1  Month 1    2  \n",
       "2              0     1       0          0     0     0     1  Month 1    3  \n",
       "3              0     0       0          0     0     0     1  Month 1    4  \n",
       "4              0     0       0          0     0     1     1  Month 1    5  \n",
       "...          ...   ...     ...        ...   ...   ...   ...      ...  ...  \n",
       "11220          0     0       0          0     0     0     1  Month 4    3  \n",
       "11221          0     0       0          0     0     1     0  Month 4    4  \n",
       "11222          0     0       0          0     0     0     1  Month 4    5  \n",
       "11223          0     0       0          0     0     0     1  Month 4    6  \n",
       "11224          0     0       0          0     0     0     1  Month 4    7  \n",
       "\n",
       "[11225 rows x 15 columns]"
      ]
     },
     "execution_count": 19,
     "metadata": {},
     "output_type": "execute_result"
    }
   ],
   "source": [
    "data2"
   ]
  },
  {
   "cell_type": "code",
   "execution_count": 20,
   "metadata": {},
   "outputs": [],
   "source": [
    "data2.to_csv('data/Dietary_Month.csv', index=False)"
   ]
  },
  {
   "cell_type": "code",
   "execution_count": 24,
   "metadata": {},
   "outputs": [],
   "source": [
    "data1 = pd.read_csv('data/Anthropometric_Month.csv')\n",
    "data2 = pd.read_csv('data/Dietary_Month.csv')\n",
    "data3 = pd.read_csv('data/Clinical_Month.csv')\n",
    "data4 = pd.read_csv('data/Biochemical_Month.csv')"
   ]
  },
  {
   "cell_type": "code",
   "execution_count": 25,
   "metadata": {},
   "outputs": [
    {
     "data": {
      "text/plain": [
       "Index(['Aadhaar', 'Month', 'Gender', 'Age', 'Height', 'Weight', 'BodyFat',\n",
       "       'MidArm', 'BMI', 'BMR', 'Month Log'],\n",
       "      dtype='object')"
      ]
     },
     "execution_count": 25,
     "metadata": {},
     "output_type": "execute_result"
    }
   ],
   "source": [
    "data1.columns"
   ]
  },
  {
   "cell_type": "code",
   "execution_count": 26,
   "metadata": {},
   "outputs": [
    {
     "data": {
      "text/plain": [
       "Index(['Aadhaar', 'Date', 'Grains', 'Pulses', 'otherFruits',\n",
       "       'leafy_Vegetables', 'other_veg', 'Milk', 'Animal', 'Vitamin_A', 'Nuts',\n",
       "       'Eggs', 'junk', 'Month', 'Day'],\n",
       "      dtype='object')"
      ]
     },
     "execution_count": 26,
     "metadata": {},
     "output_type": "execute_result"
    }
   ],
   "source": [
    "data2.columns"
   ]
  },
  {
   "cell_type": "code",
   "execution_count": 27,
   "metadata": {},
   "outputs": [
    {
     "data": {
      "text/plain": [
       "Index(['Aadhaar', 'Month', 'NeckPatches', 'PaleSkin', 'Pellagra',\n",
       "       'WrinkledSkin', 'TeethDiscolouration', 'BleedingGums', 'Cavity',\n",
       "       'WeakGums', 'AngularCuts', 'InflammedTongue', 'LipCuts', 'MouthUlcer',\n",
       "       'BitotSpot', 'Xeropthalmia', 'RedEyes', 'Catract', 'HairFall',\n",
       "       'DamagedHair', 'SplitEnds', 'Discolouration', 'DarkLines',\n",
       "       'SpoonShapedNails', 'BrokenNails', 'PaleNails', 'lean', 'bony',\n",
       "       'goitre', 'obesity', 'Month Log'],\n",
       "      dtype='object')"
      ]
     },
     "execution_count": 27,
     "metadata": {},
     "output_type": "execute_result"
    }
   ],
   "source": [
    "data3.columns"
   ]
  },
  {
   "cell_type": "code",
   "execution_count": 28,
   "metadata": {},
   "outputs": [
    {
     "data": {
      "text/plain": [
       "Index(['Aadhaar', 'Month', 'Haemoglobin', 'Month Log'], dtype='object')"
      ]
     },
     "execution_count": 28,
     "metadata": {},
     "output_type": "execute_result"
    }
   ],
   "source": [
    "data4.columns"
   ]
  },
  {
   "cell_type": "code",
   "execution_count": 29,
   "metadata": {},
   "outputs": [],
   "source": [
    "diseases = ['NeckPatches', 'PaleSkin', 'Pellagra',\n",
    "       'WrinkledSkin', 'TeethDiscolouration', 'BleedingGums', 'Cavity',\n",
    "       'WeakGums', 'AngularCuts', 'InflammedTongue', 'LipCuts', 'MouthUlcer',\n",
    "       'BitotSpot', 'Xeropthalmia', 'RedEyes', 'Catract', 'HairFall',\n",
    "       'DamagedHair', 'SplitEnds', 'Discolouration', 'DarkLines',\n",
    "       'SpoonShapedNails', 'BrokenNails', 'PaleNails', 'lean', 'bony',\n",
    "       'goitre', 'obesity']"
   ]
  }
 ],
 "metadata": {
  "kernelspec": {
   "display_name": "Python 3.10.4 ('env')",
   "language": "python",
   "name": "python3"
  },
  "language_info": {
   "codemirror_mode": {
    "name": "ipython",
    "version": 3
   },
   "file_extension": ".py",
   "mimetype": "text/x-python",
   "name": "python",
   "nbconvert_exporter": "python",
   "pygments_lexer": "ipython3",
   "version": "3.10.4"
  },
  "orig_nbformat": 4,
  "vscode": {
   "interpreter": {
    "hash": "7aa7eecd0f849ab40efe6ac0a8ce5383eaa0569ecfba7009708b3eaae53995d1"
   }
  }
 },
 "nbformat": 4,
 "nbformat_minor": 2
}
